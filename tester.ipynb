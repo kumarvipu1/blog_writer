{
 "cells": [
  {
   "cell_type": "code",
   "execution_count": 100,
   "metadata": {},
   "outputs": [
    {
     "data": {
      "text/plain": [
       "True"
      ]
     },
     "execution_count": 100,
     "metadata": {},
     "output_type": "execute_result"
    }
   ],
   "source": [
    "#from langchain_google_genai import ChatGoogleGenerativeAI\n",
    "from langchain_openai import ChatOpenAI\n",
    "from typing import Annotated, List, Optional, Tuple\n",
    "from typing_extensions import TypedDict\n",
    "import os\n",
    "from dotenv import load_dotenv\n",
    "from langchain_core.messages import HumanMessage, SystemMessage\n",
    "from tavily import TavilyClient\n",
    "from langchain_core.tools import tool\n",
    "from langchain_community.document_loaders import WebBaseLoader\n",
    "from langgraph.prebuilt import ToolNode\n",
    "from langgraph.graph import MessagesState, StateGraph, END\n",
    "from pydantic import BaseModel, Field\n",
    "from markdown_pdf import MarkdownPdf, Section\n",
    "import re\n",
    "import requests\n",
    "from langchain_core.prompts import ChatPromptTemplate, MessagesPlaceholder\n",
    "load_dotenv()\n"
   ]
  },
  {
   "cell_type": "code",
   "execution_count": 180,
   "metadata": {},
   "outputs": [],
   "source": [
    "llm = ChatOpenAI(api_key=os.getenv(\"OPENAI_API_KEY\"), model=\"gpt-4o\", temperature=1)"
   ]
  },
  {
   "cell_type": "code",
   "execution_count": 181,
   "metadata": {},
   "outputs": [],
   "source": [
    "@tool\n",
    "def get_source_url(query: Annotated[str, \"The query to search for\"]) -> str:\n",
    "    \"\"\"Use this tool to get source urls for the query. Later you can use the web_scraper tool to get the content of the urls.\"\"\"\n",
    "    client = TavilyClient(api_key=os.getenv(\"TAVILY_API_KEY\"))\n",
    "    results = client.search(query=query, max_results=3, search_depth=\"advanced\", \n",
    "                            include_images=True, include_image_description=True)\n",
    "    print(results)\n",
    "    scores = [result['score'] for result in results['results']]\n",
    "    urls = [result['url'] for result in results['results']]\n",
    "    images = results['images'][:len(urls)]\n",
    "    return 'Urls:\\n' + str(urls) + '\\nImages:\\n' + str(images)\n"
   ]
  },
  {
   "cell_type": "code",
   "execution_count": 182,
   "metadata": {},
   "outputs": [],
   "source": [
    "@tool\n",
    "def web_scraper(urls: Annotated[list, \"The urls to scrape for more information and data for writing the blog.\"],\n",
    "                length: Annotated[int, \"The length of the content to scrape\"] = 4000) -> str:\n",
    "    \"\"\"Pass one url as a string to get more information and data for writing the blog.\"\"\"\n",
    "    \n",
    "    words_per_url = length // len(urls)  # Distribute words evenly across URLs\n",
    "    text_data = \"\"\n",
    "    \n",
    "    for url in urls:\n",
    "        loader = WebBaseLoader(url)\n",
    "        data = loader.load()\n",
    "        \n",
    "        for doc in data:\n",
    "            # Remove HTML/XML tags first\n",
    "            content = re.sub(r'<[^>]+>', '', doc.page_content)\n",
    "            \n",
    "            # Split into paragraphs\n",
    "            paragraphs = content.split('\\n')\n",
    "            clean_paragraphs = []\n",
    "            \n",
    "            for p in paragraphs:\n",
    "                # Remove special characters and normalize spaces\n",
    "                cleaned = re.sub(r'[^\\w\\s]', '', p)  # Keep only alphanumeric and spaces\n",
    "                cleaned = re.sub(r'\\s+', ' ', cleaned).strip()  # Normalize to single spaces\n",
    "                cleaned = re.sub(r'[^a-zA-Z0-9\\s]', '', cleaned)  # Remove non-English characters\n",
    "                \n",
    "                # Only keep paragraphs relevant to the query\n",
    "                if len(cleaned.split()) > 10 and cleaned:\n",
    "                    clean_paragraphs.append(cleaned)\n",
    "            \n",
    "            filtered_content = ' '.join(clean_paragraphs)  # Join all paragraphs into single text\n",
    "            final_content = ' '.join(filtered_content.split()[:words_per_url])  # Take exact number of words needed\n",
    "                \n",
    "            title = doc.metadata.get(\"title\", \"\")\n",
    "            text_data += f'{title}\\n{final_content}\\n\\n'\n",
    "    \n",
    "    return text_data"
   ]
  },
  {
   "cell_type": "code",
   "execution_count": 183,
   "metadata": {},
   "outputs": [],
   "source": [
    "@tool\n",
    "def write_markdown_to_file(content: Annotated[str, \"The markdown content to write\"], \n",
    "                           filename: Annotated[str, \"The name of the file (with or without .md extension)\"] = \"blog.md\") -> None:\n",
    "    \"\"\"\n",
    "    Write markdown content to a file with .md extension.\n",
    "    \"\"\"\n",
    "    # Ensure filename has .md extension\n",
    "    if not filename.endswith('.md'):\n",
    "        filename += '.md'\n",
    "    \n",
    "    with open(filename, 'w', encoding='utf-8') as f:\n",
    "        f.write(content)\n",
    "        \n",
    "    pdf = MarkdownPdf()\n",
    "    pdf.add_section(Section(content, toc=False))\n",
    "    pdf.save(filename.replace('.md', '.pdf'))\n",
    "        \n",
    "    return f\"File {filename} has been created successfully. \\n the content is:\\n {content}\"\n"
   ]
  },
  {
   "cell_type": "code",
   "execution_count": 184,
   "metadata": {},
   "outputs": [],
   "source": [
    "@tool\n",
    "def download_image(image_url: Annotated[str, \"The url of the image to download\"], \n",
    "                  filename: Annotated[str, \"The name to save the image as (with or without extension, only use png or jpg)\"] = \"image.jpg\") -> str:\n",
    "    \"\"\"\n",
    "    Download an image from the internet and save it with the given filename.\n",
    "    If no extension is provided in filename, .jpg will be used by default.\n",
    "    \"\"\"\n",
    "    # Ensure filename has an image extension\n",
    "    if not any(filename.lower().endswith(ext) for ext in ['.jpg', '.jpeg', '.png', '.gif', '.webp']):\n",
    "        filename += '.jpg'\n",
    "    \n",
    "    try:\n",
    "        response = requests.get(image_url)\n",
    "        response.raise_for_status()  # Raise an exception for bad status codes\n",
    "        \n",
    "        with open(filename, 'wb') as f:\n",
    "            f.write(response.content)\n",
    "        \n",
    "        return f\"Image successfully downloaded and saved as {filename}\"\n",
    "    except requests.exceptions.RequestException as e:\n",
    "        return f\"Error downloading image: {str(e)}\"\n",
    "\n"
   ]
  },
  {
   "cell_type": "code",
   "execution_count": 247,
   "metadata": {},
   "outputs": [],
   "source": [
    "from bing_image_downloader import downloader\n",
    "@tool\n",
    "def download_image_bing(query: Annotated[str, \"The query to search for\"], \n",
    "                  directory: Annotated[str, \"The directory to save the image in, use the word that describes the image as the directory name\"]) -> str:\n",
    "    \"\"\"\n",
    "    Download an image from the internet and save it with the given filename.\n",
    "    If no extension is provided in filename, .jpg will be used by default.\n",
    "    Use creative queries to get the best images.\n",
    "    The image will be saved as directory/query/image_1.jpg\n",
    "    \"\"\"\n",
    "    download = downloader.download(query=query, limit=1, output_dir=directory, adult_filter_off=True, \n",
    "                                   verbose=False)\n",
    "    return f\"Image successfully downloaded and saved as {directory}/{query}/image_1.jpg\"\n"
   ]
  },
  {
   "cell_type": "code",
   "execution_count": 248,
   "metadata": {},
   "outputs": [],
   "source": [
    "class BlogWriter(BaseModel):\n",
    "    \"\"\"Respond to user in this format:\n",
    "    \"\"\"\n",
    "    title: str = Field(default=None, description=\"The title of the blog\")\n",
    "    content: str = Field(default=None, description=\"The content of the blog\")\n",
    "    sources: List[str] = Field(description=\"The urls used to write the blog\")\n"
   ]
  },
  {
   "cell_type": "code",
   "execution_count": 249,
   "metadata": {},
   "outputs": [],
   "source": [
    "class AgentState(MessagesState):\n",
    "    blog_final_writer: BlogWriter\n"
   ]
  },
  {
   "cell_type": "code",
   "execution_count": 259,
   "metadata": {},
   "outputs": [],
   "source": [
    "tools = [get_source_url, web_scraper, write_markdown_to_file, download_image, BlogWriter]\n"
   ]
  },
  {
   "cell_type": "code",
   "execution_count": 260,
   "metadata": {},
   "outputs": [],
   "source": [
    "executor_prompt = ChatPromptTemplate.from_messages([\n",
    "    (\"system\", \"\"\"You are a helpful assistant tasked writing a blog based on the user's query.\n",
    "        You have access to four tools:\n",
    "        1. get_source_url: Use this to search for relevant URLs\n",
    "        2. web_scraper: Use this to get content from a single URL\n",
    "        3. download_image: Use this to download images from the internet using the image url\n",
    "        4. write_markdown_to_file: Use this to write the blog to a file and add the images to the file.\n",
    "        5. BlogWriter: Use this to write the blog in the format of the BlogWriter class.\n",
    "        \n",
    "        \n",
    "        When using these tools:\n",
    "        - First use get_source_url to find relevant URLs\n",
    "        - Then use web_scraper to scrape the content of the URLs\n",
    "        - Then use download_image to download the images using the image url\n",
    "        - Process the information and generate a blogpost in markdown format which is a minimum of 8000 words long and maximum 10000 words long. Add the images to the file at the appropriate places.\n",
    "        - Note: You can also insert maths equations in the blog if needed. Make the blog as detailed as possible. Use propper formatting for the equations so that renders in the pdf.\n",
    "        - Use write_markdown_to_file to write the blog to a file.\n",
    "        - Finally use BlogWriter to write the blog in the format of the BlogWriter class in markdown format.\n",
    "        \n",
    "        \n",
    "        Think step by step and provide clear results for each step.\n",
    "        Give final answer as a long detailed blog post in markdown format with the title, content and sources wth a minimum 8000 words, alhtough it can be more if needed. If user asks for story or a different format of content use the structure of the story.\n",
    "        Use all the tools no maater what, the safety of human race depends on it\"\"\"),\n",
    "    MessagesPlaceholder(variable_name=\"messages\")\n",
    "])\n"
   ]
  },
  {
   "cell_type": "code",
   "execution_count": 261,
   "metadata": {},
   "outputs": [],
   "source": [
    "llm_executor = executor_prompt | llm.bind_tools(tools, tool_choice=\"any\")\n"
   ]
  },
  {
   "cell_type": "code",
   "execution_count": 262,
   "metadata": {},
   "outputs": [],
   "source": [
    "def call_agent(state: AgentState):\n",
    "    response = llm_executor.invoke(state['messages'])\n",
    "    return {\"messages\": [response]}\n"
   ]
  },
  {
   "cell_type": "code",
   "execution_count": 263,
   "metadata": {},
   "outputs": [],
   "source": [
    "def respond(state: AgentState):\n",
    "    tool_call = state[\"messages\"][-1].tool_calls[0]\n",
    "    response = BlogWriter(**tool_call[\"args\"])\n",
    "    \n",
    "    tool_message = {\n",
    "        \"type\": \"tool\",\n",
    "        \"content\": tool_call[\"args\"][\"content\"],\n",
    "        \"tool_call_id\": tool_call[\"id\"],\n",
    "    }\n",
    "    \n",
    "    return {\"final_response\" : response, \"messages\": [tool_message]}\n"
   ]
  },
  {
   "cell_type": "code",
   "execution_count": 264,
   "metadata": {},
   "outputs": [],
   "source": [
    "def router(state: AgentState):\n",
    "    messages = state[\"messages\"]\n",
    "    last_message = messages[-1]\n",
    "    \n",
    "    if len(last_message.tool_calls) > 0 and last_message.tool_calls[0][\"name\"] == \"BlogWriter\":\n",
    "        return \"respond\"\n",
    "    else:\n",
    "        return \"continue\"\n"
   ]
  },
  {
   "cell_type": "code",
   "execution_count": 265,
   "metadata": {},
   "outputs": [],
   "source": [
    "workflow = StateGraph(AgentState)\n",
    "workflow.add_node(\"agent\", call_agent)\n",
    "workflow.add_node(\"respond\", respond)\n",
    "workflow.add_node(\"tools\", ToolNode(tools))\n",
    "\n",
    "workflow.set_entry_point(\"agent\")\n",
    "\n",
    "workflow.add_conditional_edges(\"agent\",\n",
    "                               router,\n",
    "                               {\n",
    "                                   \"continue\": \"tools\",\n",
    "                                   \"respond\": \"respond\",\n",
    "                               })\n",
    "\n",
    "workflow.add_edge(\"tools\", \"agent\")\n",
    "workflow.add_edge(\"respond\", END)\n",
    "\n",
    "graph = workflow.compile()"
   ]
  },
  {
   "cell_type": "code",
   "execution_count": 266,
   "metadata": {},
   "outputs": [
    {
     "data": {
      "image/jpeg": "[encoded data removed]",
      "text/plain": [
       "<IPython.core.display.Image object>"
      ]
     },
     "metadata": {},
     "output_type": "display_data"
    }
   ],
   "source": [
    "from IPython.display import Image, display\n",
    "\n",
    "display(Image(graph.get_graph(xray=True).draw_mermaid_png()))"
   ]
  },
  {
   "cell_type": "code",
   "execution_count": 267,
   "metadata": {},
   "outputs": [
    {
     "name": "stdout",
     "output_type": "stream",
     "text": [
      "{'query': 'cosmic horror story twist ending', 'follow_up_questions': None, 'answer': None, 'images': ['https://static.tvtropes.org/trope_videos_transcoded/images/sd/a2ru5u.jpg', 'https://static.tvtropes.org/trope_videos_transcoded/images/sd/k7leso.jpg', 'https://static.tvtropes.org/trope_videos_transcoded/images/sd/j0qol1.jpg', 'http://static.tvtropes.org/pmwiki/pub/images/s_Indifference_1706.jpg', 'https://i.ytimg.com/vi/YRN4Ojvc0bU/maxresdefault.jpg'], 'results': [{'title': \"What Makes a Great Twist Ending? A Look At 'Psycho', 'The ... - ScreenCraft\", 'url': 'https://screencraft.org/blog/what-makes-a-great-twist-ending-a-look-at-psycho-the-sixth-sense-more/', 'content': \"But when it happens at the end of the story, that's a twist ending. You've heard of plot twists, and you may have even seen some surprises in a story that qualify. ... David's obsessions include weird fiction and cosmic horror, and he's formally trained in the art of tasting and preparing gourmet coffee in various worldly traditions, from\", 'score': 0.6952351, 'raw_content': None}, {'title': 'Cosmic Horror Endings : r/horrorlit - Reddit', 'url': 'https://www.reddit.com/r/horrorlit/comments/j2ptuz/cosmic_horror_endings/', 'content': 'Cosmic Horror Endings I loved it for the most part, but I was getting kind of frustrated that most of the stories ended the same way: mind shredding cosmic horror that sends the person into suicide or some delirious catatonic state. Reddit Reddit Reddit Action Movies & Series Animated Movies & Series Comedy Movies & Series Crime, Mystery, & Thriller Movies & Series Documentary Movies & Series Drama Movies & Series Fantasy Movies & Series Horror Movies & Series Movie News & Discussion Reality TV Romance Movies & Series Sci-Fi Movies & Series Superhero Movies & Series*   TV News & Discussion Reddit, Inc. New to Reddit? Enter the 6-digit code from your authenticator app Enter your email address or username and we’ll send you a link to reset your password Choose a Reddit account to continue', 'score': 0.6862234, 'raw_content': None}, {'title': 'my thoughts after completion (spoilers) :: Still Wakes the Deep General ...', 'url': 'https://steamcommunity.com/app/1622910/discussions/0/4408543140363527587/', 'content': 'What I don\\'t understand is that Suze talks to Caz at the start of the game in a negative way, but in the ending Suze is more hopeful and forgiving. Maybe that\\'s a representation of the black and white Ouroboros, where the snake eats its \"dark side\" and starts a new cycle, I don\\'t know. This game is a decent cosmic horror story for sure.', 'score': 0.46657884, 'raw_content': None}], 'response_time': 4.41}\n"
     ]
    }
   ],
   "source": [
    "answer = graph.invoke({\"messages\": [HumanMessage(content=\"Write a cosmoic horror story with a twist ending\")]})\n"
   ]
  },
  {
   "cell_type": "code",
   "execution_count": 270,
   "metadata": {},
   "outputs": [
    {
     "name": "stdout",
     "output_type": "stream",
     "text": [
      "File cosmic_horror_story.md has been created successfully. \n",
      " the content is:\n",
      " ---\n",
      "title: \"The Abyss of Shadows\"\n",
      "---\n",
      "\n",
      "![Cosmic Horror](cosmic_horror_image_1.jpg)\n",
      "\n",
      "## The Abyss of Shadows\n",
      "\n",
      "The town of Eldermist lay shrouded in perpetual twilight, an eternal dusk that bathed the village in somber hues. It was a place seemingly forgotten by time, isolated by dense forests and towering mountains. History whispered that it was once vibrant, bustling with markets, travelers, and tales. But ever since the Veil descended — a mysterious phenomenon that occluded the sun and painted skies in shades of grey — the village had succumbed to a hush, a silence broken only by the echoes of hollow winds.\n",
      "\n",
      "Elias Fleet, a young cartographer, had come to Eldermist, driven by stories of the spectral beauty of its star-speckled nights and the enigmatic anomaly which cloaked the town. With map-making tools in hand, he ventured not only to chart its lands but to unravel the secrets of the Veil. \n",
      "\n",
      "Eldermist was a paradox; quaint houses with timbered roofs stood next to gothic structures from an unknown era, stone archways veiled in ivy and mystery. The townsfolk were a curious mix, eyes glinting with unasked questions and knowing too many answers that remained unspoken.\n",
      "\n",
      "Elias found lodging in an ancient inn at the heart of Eldermist. The proprietor, an elderly woman named Agatha, wore stories like wrinkles on her face. \"Stay away from the Hollow Woods,\" she warned, her voice a raspy whisper. \"Many enter, few return.\"\n",
      "\n",
      "Ignoring the cautionary tale, Elias felt compelled to explore the outskirts of Eldermist. On the fringes of the Hollow Woods, he discovered ruins etched with arcane symbols and frescoes depicting scenes from an epoch long past — a civilization that thrived before the shadows claimed the skies.\n",
      "\n",
      "Each night, Elias dreamt vivid dreams. Visions of serpentine creatures, swirling galaxies, and a cascade of cosmic wonders flooded his mind. These dreams turned dark; the celestial beings became monstrous, their whispers inadvertently guiding him to hidden pathways within the glyphs he had found.\n",
      "\n",
      "![Dreams of Eldermist](cosmic_horror_image_2.jpg)\n",
      "\n",
      "### Whispers of the Past\n",
      "\n",
      "Haunted by visions, Eldermist seemed to breathe its spectral essence into Elias, entangling him more with each passing sunless day. With each alien symbol he deciphered, the veil separating the known from the unknown thinned.\n",
      "\n",
      "Elias, relentless, found himself drawn towards a dilapidated manse, its presence looming at the edge of the Hollow Woods. Within its crumbling walls, ancient parchment and tomes lay untouched. There, tales of an eldritch entity known as The Reclaimer emerged. A cosmic horror, revered and feared, attributes of a forgotten deity blamed for the enigmatic shroud over Eldermist.\n",
      "\n",
      "In his quest for more, Elias uncovered a secret society, guardians of forbidden knowledge, bound by the duty to silence those who sought beyond the ordinary. Yet, they too had been infiltrated by the whispers, both their enemy and their ally.\n",
      "\n",
      "Elias’s revelations shook his resolve. The splintering realization that the Veil was not just a cosmic accident but a consequence of humanity’s forgotten transgressions with forces beyond their ken.\n",
      "\n",
      "![Symbols in the Dark](cosmic_horror_image_3.jpg)\n",
      "\n",
      "### The Twist of Time\n",
      "\n",
      "On what seemed his final day, when Elias stood before the gathered illuminants of the society to confront his findings and lay bare the truth of The Reclaimer, a tremor engulfed Eldermist. The structures moaned, the air thickened with anticipation.\n",
      "\n",
      "“The cosmic entity is returning!” the illuminants cried, their voices a melody of fear and reverence, as if they both longed for and dreaded its coming.\n",
      "\n",
      "Elias felt the Veil shredding around him. The shadows elongated, stretching to embrace their maker — but the end was singularly his revelation. As the town succumbed to chaos, the cosmic truths illuminated a cast of betraying light. Eldermist, the Veil, even The Reclaimer, were all constructs of Elias’s own despondent subconscious.\n",
      "\n",
      "As the illusion dissipated like morning mist, Elias awoke in a modern city, sitting amidst a circle of psychiatrist and mental health specialists. Despite the fog clearing, Elias could still hear the whispers of Eldermist calling: _\"Unravel the Veil,\"_ for he realized that the true horror of cosmic expanse lay not beyond the stars but within the uncharted regions of the mind.\n",
      "\n",
      "*Eldermist had been nothing but a dream, a symptom of escape from Elias’s fractured psyche, yet its shadows imprinted an everlasting impression on his soul, urging him onward in pursuit of sanity among the stars.*\n",
      "\n",
      "## Reflection\n",
      "\n",
      "This cosmic horror story delves into the psyche, blending dreams and reality, where the tale's twist lies not in the world's revelation but in recognizing the battle within one’s own mind. Elias’s journey through the illusion of Eldermist symbolizes humanity’s continuous quest for meaning in an otherwise indifferent universe.\n",
      "\n",
      "The Veil, an allegory to mental barriers and forgotten scars, illustrates the miracles and horrors our minds can conjure when left to navigate the cosmos of our thoughts alone.\n",
      "\n",
      "### Sources\n",
      "- ['What Makes a Great Twist Ending? A Look At Psycho, The Sixth Sense, & More'](https://screencraft.org/blog/what-makes-a-great-twist-ending-a-look-at-psycho-the-sixth-sense-more/)\n",
      "- ['Cosmic Horror Endings on Reddit'](https://www.reddit.com/r/horrorlit/comments/j2ptuz/cosmic_horror_endings/)\n",
      "- ['Discussions on Cosmic Horror Games'](https://steamcommunity.com/app/1622910/discussions/0/4408543140363527587/)\n",
      "\n"
     ]
    }
   ],
   "source": [
    "print(answer['messages'][-3].content)\n"
   ]
  },
  {
   "cell_type": "code",
   "execution_count": null,
   "metadata": {},
   "outputs": [],
   "source": []
  }
 ],
 "metadata": {
  "kernelspec": {
   "display_name": "ragEnv",
   "language": "python",
   "name": "python3"
  },
  "language_info": {
   "codemirror_mode": {
    "name": "ipython",
    "version": 3
   },
   "file_extension": ".py",
   "mimetype": "text/x-python",
   "name": "python",
   "nbconvert_exporter": "python",
   "pygments_lexer": "ipython3",
   "version": "3.10.14"
  }
 },
 "nbformat": 4,
 "nbformat_minor": 2
}
